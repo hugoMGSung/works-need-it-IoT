{
 "cells": [
  {
   "cell_type": "code",
   "execution_count": 11,
   "metadata": {},
   "outputs": [
    {
     "name": "stdout",
     "output_type": "stream",
     "text": [
      "BathRoom\n"
     ]
    }
   ],
   "source": [
    "import random as rnd\n",
    "\n",
    "rooms = ('DiningRoom', 'LivingRoom', 'BathRoom', 'BedRoom', 'GuestRoom')\n",
    "print(rnd.choice(rooms))"
   ]
  }
 ],
 "metadata": {
  "interpreter": {
   "hash": "fb3c94a6ffc13662eb155aacdd125a5592537003c103ee6c9511859e753b2493"
  },
  "kernelspec": {
   "display_name": "Python 3.9.7 64-bit",
   "language": "python",
   "name": "python3"
  },
  "language_info": {
   "codemirror_mode": {
    "name": "ipython",
    "version": 3
   },
   "file_extension": ".py",
   "mimetype": "text/x-python",
   "name": "python",
   "nbconvert_exporter": "python",
   "pygments_lexer": "ipython3",
   "version": "3.9.7"
  },
  "orig_nbformat": 4
 },
 "nbformat": 4,
 "nbformat_minor": 2
}
